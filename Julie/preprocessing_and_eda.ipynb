{
 "cells": [
  {
   "cell_type": "markdown",
   "id": "c2ab4fb2",
   "metadata": {},
   "source": [
    "## Part 1: Preprocessing and EDA\n"
   ]
  },
  {
   "cell_type": "markdown",
   "id": "d581f7f3",
   "metadata": {},
   "source": [
    "### Data Import & Cleaning"
   ]
  },
  {
   "cell_type": "markdown",
   "id": "0cab618c",
   "metadata": {},
   "source": [
    "### Problem 2: Inventory Management"
   ]
  },
  {
   "cell_type": "code",
   "execution_count": null,
   "id": "3cd27017",
   "metadata": {},
   "outputs": [],
   "source": []
  }
 ],
 "metadata": {
  "kernelspec": {
   "display_name": "Python 3",
   "language": "python",
   "name": "python3"
  },
  "language_info": {
   "codemirror_mode": {
    "name": "ipython",
    "version": 3
   },
   "file_extension": ".py",
   "mimetype": "text/x-python",
   "name": "python",
   "nbconvert_exporter": "python",
   "pygments_lexer": "ipython3",
   "version": "3.8.2"
  }
 },
 "nbformat": 4,
 "nbformat_minor": 5
}
