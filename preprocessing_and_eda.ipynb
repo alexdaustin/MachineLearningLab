{
 "cells": [
  {
   "cell_type": "markdown",
   "id": "be1821a9",
   "metadata": {},
   "source": [
    "## Part 1: Preprocessing and EDA\n"
   ]
  },
  {
   "cell_type": "markdown",
   "id": "2d6cf69f",
   "metadata": {},
   "source": [
    "### Data Import & Cleaning"
   ]
  },
  {
   "cell_type": "code",
   "execution_count": 107,
   "id": "84e95e3f",
   "metadata": {},
   "outputs": [],
   "source": [
    "import numpy as np\n",
    "import pandas as pd\n",
    "import matplotlib.pyplot as plt\n",
    "import seaborn as sns"
   ]
  },
  {
   "cell_type": "markdown",
   "id": "385ea856",
   "metadata": {},
   "source": [
    "### Problem 1: Data Import & Cleaning\n",
    "- convert profit and sales to numeric"
   ]
  },
  {
   "cell_type": "code",
   "execution_count": 71,
   "id": "b44727a3",
   "metadata": {},
   "outputs": [],
   "source": [
    "orders = pd.read_csv('Orders.csv',index_col='Row.ID',\n",
    "                     parse_dates=['Order.Date','Ship.Date'])\n",
    "returns = pd.read_csv('Returns.csv', index_col=0)"
   ]
  },
  {
   "cell_type": "code",
   "execution_count": 72,
   "id": "615f4edf",
   "metadata": {},
   "outputs": [],
   "source": [
    "# remove dollar sign\n",
    "cols_to_change = ['Profit', 'Sales']\n",
    "orders[cols_to_change] = orders[cols_to_change].replace({'\\$':''}, regex = True)\n",
    "orders[cols_to_change] = orders[cols_to_change].replace({'\\,':''}, regex = True)"
   ]
  },
  {
   "cell_type": "code",
   "execution_count": 73,
   "id": "249926e5",
   "metadata": {},
   "outputs": [],
   "source": [
    "orders['Sales'] = pd.to_numeric(orders['Sales'])\n",
    "orders['Profit'] = pd.to_numeric(orders['Profit'])"
   ]
  },
  {
   "cell_type": "markdown",
   "id": "79df3052",
   "metadata": {},
   "source": [
    "### Problem 2: Inventory Management\n",
    "- look at seasonal trend\n",
    "- does the seasonal trend depend on different categories\n",
    "- Hint: look at the Quantity feature (number of products in an order)"
   ]
  },
  {
   "cell_type": "code",
   "execution_count": null,
   "id": "2f7c04bb",
   "metadata": {},
   "outputs": [],
   "source": [
    "# ## Trying to graph all data sales by time\n",
    "\n",
    "# orders[['Sales', 'Order.Date']]\n",
    "# orders2 = orders.groupby('Order.Date').agg(['sum':'Sales'])\n",
    "# # orders['Order.Date'] = pd.to_datetime(orders['Order.Date'])\n",
    "# # orders['Ship.Date'] = pd.to_datetime(orders['Ship.Date'])\n",
    "# # plt.plot(orders['Order.Date'], orders['Sales'])\n",
    "# orders2"
   ]
  },
  {
   "cell_type": "code",
   "execution_count": 85,
   "id": "1f516097",
   "metadata": {
    "scrolled": true
   },
   "outputs": [],
   "source": [
    "## Creating a month and year column\n",
    "\n",
    "orders['month'] = pd.DatetimeIndex(orders['Order.Date']).month\n",
    "orders['year'] = pd.DatetimeIndex(orders['Order.Date']).year"
   ]
  },
  {
   "cell_type": "code",
   "execution_count": 100,
   "id": "8e9de6ac",
   "metadata": {
    "scrolled": true
   },
   "outputs": [],
   "source": [
    "## groupby month\n",
    "orders_date_qty = orders.groupby(['year','month']).agg({'Quantity':'sum'})\n",
    "orders_date_sales = orders.groupby(['year','month']).agg({'Sales':'sum'})"
   ]
  },
  {
   "cell_type": "code",
   "execution_count": 113,
   "id": "3e27e976",
   "metadata": {},
   "outputs": [
    {
     "data": {
      "text/html": [
       "<div>\n",
       "<style scoped>\n",
       "    .dataframe tbody tr th:only-of-type {\n",
       "        vertical-align: middle;\n",
       "    }\n",
       "\n",
       "    .dataframe tbody tr th {\n",
       "        vertical-align: top;\n",
       "    }\n",
       "\n",
       "    .dataframe thead th {\n",
       "        text-align: right;\n",
       "    }\n",
       "</style>\n",
       "<table border=\"1\" class=\"dataframe\">\n",
       "  <thead>\n",
       "    <tr style=\"text-align: right;\">\n",
       "      <th></th>\n",
       "      <th>year</th>\n",
       "      <th>month</th>\n",
       "      <th>Quantity</th>\n",
       "    </tr>\n",
       "  </thead>\n",
       "  <tbody>\n",
       "    <tr>\n",
       "      <th>0</th>\n",
       "      <td>2012</td>\n",
       "      <td>1</td>\n",
       "      <td>1463</td>\n",
       "    </tr>\n",
       "    <tr>\n",
       "      <th>1</th>\n",
       "      <td>2012</td>\n",
       "      <td>2</td>\n",
       "      <td>1401</td>\n",
       "    </tr>\n",
       "    <tr>\n",
       "      <th>2</th>\n",
       "      <td>2012</td>\n",
       "      <td>3</td>\n",
       "      <td>1745</td>\n",
       "    </tr>\n",
       "    <tr>\n",
       "      <th>3</th>\n",
       "      <td>2012</td>\n",
       "      <td>4</td>\n",
       "      <td>1934</td>\n",
       "    </tr>\n",
       "    <tr>\n",
       "      <th>4</th>\n",
       "      <td>2012</td>\n",
       "      <td>5</td>\n",
       "      <td>2167</td>\n",
       "    </tr>\n",
       "    <tr>\n",
       "      <th>5</th>\n",
       "      <td>2012</td>\n",
       "      <td>6</td>\n",
       "      <td>3002</td>\n",
       "    </tr>\n",
       "    <tr>\n",
       "      <th>6</th>\n",
       "      <td>2012</td>\n",
       "      <td>7</td>\n",
       "      <td>1836</td>\n",
       "    </tr>\n",
       "    <tr>\n",
       "      <th>7</th>\n",
       "      <td>2012</td>\n",
       "      <td>8</td>\n",
       "      <td>3020</td>\n",
       "    </tr>\n",
       "    <tr>\n",
       "      <th>8</th>\n",
       "      <td>2012</td>\n",
       "      <td>9</td>\n",
       "      <td>3644</td>\n",
       "    </tr>\n",
       "    <tr>\n",
       "      <th>9</th>\n",
       "      <td>2012</td>\n",
       "      <td>10</td>\n",
       "      <td>2981</td>\n",
       "    </tr>\n",
       "    <tr>\n",
       "      <th>10</th>\n",
       "      <td>2012</td>\n",
       "      <td>11</td>\n",
       "      <td>3924</td>\n",
       "    </tr>\n",
       "    <tr>\n",
       "      <th>11</th>\n",
       "      <td>2012</td>\n",
       "      <td>12</td>\n",
       "      <td>4326</td>\n",
       "    </tr>\n",
       "    <tr>\n",
       "      <th>12</th>\n",
       "      <td>2013</td>\n",
       "      <td>1</td>\n",
       "      <td>1874</td>\n",
       "    </tr>\n",
       "    <tr>\n",
       "      <th>13</th>\n",
       "      <td>2013</td>\n",
       "      <td>2</td>\n",
       "      <td>1444</td>\n",
       "    </tr>\n",
       "    <tr>\n",
       "      <th>14</th>\n",
       "      <td>2013</td>\n",
       "      <td>3</td>\n",
       "      <td>2237</td>\n",
       "    </tr>\n",
       "    <tr>\n",
       "      <th>15</th>\n",
       "      <td>2013</td>\n",
       "      <td>4</td>\n",
       "      <td>2250</td>\n",
       "    </tr>\n",
       "    <tr>\n",
       "      <th>16</th>\n",
       "      <td>2013</td>\n",
       "      <td>5</td>\n",
       "      <td>2921</td>\n",
       "    </tr>\n",
       "    <tr>\n",
       "      <th>17</th>\n",
       "      <td>2013</td>\n",
       "      <td>6</td>\n",
       "      <td>3671</td>\n",
       "    </tr>\n",
       "    <tr>\n",
       "      <th>18</th>\n",
       "      <td>2013</td>\n",
       "      <td>7</td>\n",
       "      <td>2321</td>\n",
       "    </tr>\n",
       "    <tr>\n",
       "      <th>19</th>\n",
       "      <td>2013</td>\n",
       "      <td>8</td>\n",
       "      <td>3818</td>\n",
       "    </tr>\n",
       "    <tr>\n",
       "      <th>20</th>\n",
       "      <td>2013</td>\n",
       "      <td>9</td>\n",
       "      <td>4205</td>\n",
       "    </tr>\n",
       "    <tr>\n",
       "      <th>21</th>\n",
       "      <td>2013</td>\n",
       "      <td>10</td>\n",
       "      <td>3563</td>\n",
       "    </tr>\n",
       "    <tr>\n",
       "      <th>22</th>\n",
       "      <td>2013</td>\n",
       "      <td>11</td>\n",
       "      <td>5193</td>\n",
       "    </tr>\n",
       "    <tr>\n",
       "      <th>23</th>\n",
       "      <td>2013</td>\n",
       "      <td>12</td>\n",
       "      <td>4614</td>\n",
       "    </tr>\n",
       "    <tr>\n",
       "      <th>24</th>\n",
       "      <td>2014</td>\n",
       "      <td>1</td>\n",
       "      <td>2413</td>\n",
       "    </tr>\n",
       "    <tr>\n",
       "      <th>25</th>\n",
       "      <td>2014</td>\n",
       "      <td>2</td>\n",
       "      <td>2102</td>\n",
       "    </tr>\n",
       "    <tr>\n",
       "      <th>26</th>\n",
       "      <td>2014</td>\n",
       "      <td>3</td>\n",
       "      <td>2686</td>\n",
       "    </tr>\n",
       "    <tr>\n",
       "      <th>27</th>\n",
       "      <td>2014</td>\n",
       "      <td>4</td>\n",
       "      <td>2688</td>\n",
       "    </tr>\n",
       "    <tr>\n",
       "      <th>28</th>\n",
       "      <td>2014</td>\n",
       "      <td>5</td>\n",
       "      <td>3808</td>\n",
       "    </tr>\n",
       "    <tr>\n",
       "      <th>29</th>\n",
       "      <td>2014</td>\n",
       "      <td>6</td>\n",
       "      <td>5327</td>\n",
       "    </tr>\n",
       "    <tr>\n",
       "      <th>30</th>\n",
       "      <td>2014</td>\n",
       "      <td>7</td>\n",
       "      <td>3252</td>\n",
       "    </tr>\n",
       "    <tr>\n",
       "      <th>31</th>\n",
       "      <td>2014</td>\n",
       "      <td>8</td>\n",
       "      <td>4934</td>\n",
       "    </tr>\n",
       "    <tr>\n",
       "      <th>32</th>\n",
       "      <td>2014</td>\n",
       "      <td>9</td>\n",
       "      <td>5793</td>\n",
       "    </tr>\n",
       "    <tr>\n",
       "      <th>33</th>\n",
       "      <td>2014</td>\n",
       "      <td>10</td>\n",
       "      <td>3883</td>\n",
       "    </tr>\n",
       "    <tr>\n",
       "      <th>34</th>\n",
       "      <td>2014</td>\n",
       "      <td>11</td>\n",
       "      <td>5556</td>\n",
       "    </tr>\n",
       "    <tr>\n",
       "      <th>35</th>\n",
       "      <td>2014</td>\n",
       "      <td>12</td>\n",
       "      <td>5694</td>\n",
       "    </tr>\n",
       "    <tr>\n",
       "      <th>36</th>\n",
       "      <td>2015</td>\n",
       "      <td>1</td>\n",
       "      <td>3122</td>\n",
       "    </tr>\n",
       "    <tr>\n",
       "      <th>37</th>\n",
       "      <td>2015</td>\n",
       "      <td>2</td>\n",
       "      <td>2482</td>\n",
       "    </tr>\n",
       "    <tr>\n",
       "      <th>38</th>\n",
       "      <td>2015</td>\n",
       "      <td>3</td>\n",
       "      <td>3722</td>\n",
       "    </tr>\n",
       "    <tr>\n",
       "      <th>39</th>\n",
       "      <td>2015</td>\n",
       "      <td>4</td>\n",
       "      <td>3594</td>\n",
       "    </tr>\n",
       "    <tr>\n",
       "      <th>40</th>\n",
       "      <td>2015</td>\n",
       "      <td>5</td>\n",
       "      <td>4300</td>\n",
       "    </tr>\n",
       "    <tr>\n",
       "      <th>41</th>\n",
       "      <td>2015</td>\n",
       "      <td>6</td>\n",
       "      <td>6009</td>\n",
       "    </tr>\n",
       "    <tr>\n",
       "      <th>42</th>\n",
       "      <td>2015</td>\n",
       "      <td>7</td>\n",
       "      <td>3637</td>\n",
       "    </tr>\n",
       "    <tr>\n",
       "      <th>43</th>\n",
       "      <td>2015</td>\n",
       "      <td>8</td>\n",
       "      <td>5824</td>\n",
       "    </tr>\n",
       "    <tr>\n",
       "      <th>44</th>\n",
       "      <td>2015</td>\n",
       "      <td>9</td>\n",
       "      <td>6837</td>\n",
       "    </tr>\n",
       "    <tr>\n",
       "      <th>45</th>\n",
       "      <td>2015</td>\n",
       "      <td>10</td>\n",
       "      <td>5876</td>\n",
       "    </tr>\n",
       "    <tr>\n",
       "      <th>46</th>\n",
       "      <td>2015</td>\n",
       "      <td>11</td>\n",
       "      <td>7706</td>\n",
       "    </tr>\n",
       "    <tr>\n",
       "      <th>47</th>\n",
       "      <td>2015</td>\n",
       "      <td>12</td>\n",
       "      <td>7513</td>\n",
       "    </tr>\n",
       "  </tbody>\n",
       "</table>\n",
       "</div>"
      ],
      "text/plain": [
       "    year  month  Quantity\n",
       "0   2012      1      1463\n",
       "1   2012      2      1401\n",
       "2   2012      3      1745\n",
       "3   2012      4      1934\n",
       "4   2012      5      2167\n",
       "5   2012      6      3002\n",
       "6   2012      7      1836\n",
       "7   2012      8      3020\n",
       "8   2012      9      3644\n",
       "9   2012     10      2981\n",
       "10  2012     11      3924\n",
       "11  2012     12      4326\n",
       "12  2013      1      1874\n",
       "13  2013      2      1444\n",
       "14  2013      3      2237\n",
       "15  2013      4      2250\n",
       "16  2013      5      2921\n",
       "17  2013      6      3671\n",
       "18  2013      7      2321\n",
       "19  2013      8      3818\n",
       "20  2013      9      4205\n",
       "21  2013     10      3563\n",
       "22  2013     11      5193\n",
       "23  2013     12      4614\n",
       "24  2014      1      2413\n",
       "25  2014      2      2102\n",
       "26  2014      3      2686\n",
       "27  2014      4      2688\n",
       "28  2014      5      3808\n",
       "29  2014      6      5327\n",
       "30  2014      7      3252\n",
       "31  2014      8      4934\n",
       "32  2014      9      5793\n",
       "33  2014     10      3883\n",
       "34  2014     11      5556\n",
       "35  2014     12      5694\n",
       "36  2015      1      3122\n",
       "37  2015      2      2482\n",
       "38  2015      3      3722\n",
       "39  2015      4      3594\n",
       "40  2015      5      4300\n",
       "41  2015      6      6009\n",
       "42  2015      7      3637\n",
       "43  2015      8      5824\n",
       "44  2015      9      6837\n",
       "45  2015     10      5876\n",
       "46  2015     11      7706\n",
       "47  2015     12      7513"
      ]
     },
     "execution_count": 113,
     "metadata": {},
     "output_type": "execute_result"
    }
   ],
   "source": [
    "orders_date_qty.reset_index()\n"
   ]
  },
  {
   "cell_type": "code",
   "execution_count": null,
   "id": "3746c851",
   "metadata": {},
   "outputs": [],
   "source": []
  },
  {
   "cell_type": "markdown",
   "id": "857b425f",
   "metadata": {},
   "source": [
    "### Problem 3: Customer Returns\n",
    "Merge returns and orders using Order.ID\n",
    "1. lost profits due to returns\n",
    "2. number of customers that returned more than one\n",
    "3. regions that return more orders\n",
    "4. Which categories and sub-categories are more likely to be returned"
   ]
  },
  {
   "cell_type": "code",
   "execution_count": 125,
   "id": "54d34f63",
   "metadata": {},
   "outputs": [],
   "source": [
    "OR_merge = orders.merge(returns, how='left', left_on='Order.ID', right_on='Order ID')"
   ]
  },
  {
   "cell_type": "code",
   "execution_count": 124,
   "id": "1e38aee8",
   "metadata": {},
   "outputs": [
    {
     "data": {
      "text/plain": [
       "Order.ID              0\n",
       "Order.Date            0\n",
       "Ship.Date             0\n",
       "Ship.Mode             0\n",
       "Customer.ID           0\n",
       "Customer.Name         0\n",
       "Segment               0\n",
       "Postal.Code       41296\n",
       "City                  0\n",
       "State                 0\n",
       "Country               0\n",
       "Region_x              0\n",
       "Market                0\n",
       "Product.ID            0\n",
       "Category              0\n",
       "Sub.Category          0\n",
       "Product.Name          0\n",
       "Sales                 0\n",
       "Quantity              0\n",
       "Discount              0\n",
       "Profit                0\n",
       "Shipping.Cost         0\n",
       "Order.Priority        0\n",
       "month                 0\n",
       "year                  0\n",
       "Order ID          49070\n",
       "Region_y          49070\n",
       "dtype: int64"
      ]
     },
     "execution_count": 124,
     "metadata": {},
     "output_type": "execute_result"
    }
   ],
   "source": [
    "OR_merge.isna().sum()"
   ]
  },
  {
   "cell_type": "code",
   "execution_count": 127,
   "id": "29f18413",
   "metadata": {},
   "outputs": [],
   "source": [
    "OR_merge.loc[OR_merge['Region_y'].isna(),'return_flag'] = 0\n",
    "OR_merge.loc[~OR_merge['Region_y'].isna(),'return_flag'] = 1"
   ]
  },
  {
   "cell_type": "code",
   "execution_count": 128,
   "id": "1db44e81",
   "metadata": {},
   "outputs": [
    {
     "data": {
      "text/html": [
       "<div>\n",
       "<style scoped>\n",
       "    .dataframe tbody tr th:only-of-type {\n",
       "        vertical-align: middle;\n",
       "    }\n",
       "\n",
       "    .dataframe tbody tr th {\n",
       "        vertical-align: top;\n",
       "    }\n",
       "\n",
       "    .dataframe thead th {\n",
       "        text-align: right;\n",
       "    }\n",
       "</style>\n",
       "<table border=\"1\" class=\"dataframe\">\n",
       "  <thead>\n",
       "    <tr style=\"text-align: right;\">\n",
       "      <th></th>\n",
       "      <th>process_time</th>\n",
       "    </tr>\n",
       "    <tr>\n",
       "      <th>return_flag</th>\n",
       "      <th></th>\n",
       "    </tr>\n",
       "  </thead>\n",
       "  <tbody>\n",
       "    <tr>\n",
       "      <th>0.0</th>\n",
       "      <td>3 days 23:12:20.542082738</td>\n",
       "    </tr>\n",
       "    <tr>\n",
       "      <th>1.0</th>\n",
       "      <td>4 days 00:34:22.702702702</td>\n",
       "    </tr>\n",
       "  </tbody>\n",
       "</table>\n",
       "</div>"
      ],
      "text/plain": [
       "                         process_time\n",
       "return_flag                          \n",
       "0.0         3 days 23:12:20.542082738\n",
       "1.0         4 days 00:34:22.702702702"
      ]
     },
     "execution_count": 128,
     "metadata": {},
     "output_type": "execute_result"
    }
   ],
   "source": [
    "OR_merge['process_time'] = OR_merge['Ship.Date'] - OR_merge['Order.Date']\n",
    "OR_merge.groupby(['return_flag']).agg({'process_time':'mean'})"
   ]
  },
  {
   "cell_type": "code",
   "execution_count": 136,
   "id": "b57bc365",
   "metadata": {},
   "outputs": [
    {
     "data": {
      "text/plain": [
       "Staples                                                 227\n",
       "Cardinal Index Tab, Clear                                92\n",
       "Eldon File Cart, Single Width                            90\n",
       "Rogers File Cart, Single Width                           84\n",
       "Ibico Index Tab, Clear                                   83\n",
       "                                                       ... \n",
       "Lexmark X 9575 Professional All-in-One Color Printer      1\n",
       "NETGEAR RangeMax WNR1000 Wireless Router                  1\n",
       "4009 Highlighters                                         1\n",
       "Xerox 1938                                                1\n",
       "Cisco SPA 501G IP Phone                                   1\n",
       "Name: Product.Name, Length: 3788, dtype: int64"
      ]
     },
     "execution_count": 136,
     "metadata": {},
     "output_type": "execute_result"
    }
   ],
   "source": [
    "orders['Product.Name'].value_counts()"
   ]
  },
  {
   "cell_type": "code",
   "execution_count": 139,
   "id": "29edb2e0",
   "metadata": {},
   "outputs": [
    {
     "data": {
      "text/plain": [
       "3788"
      ]
     },
     "execution_count": 139,
     "metadata": {},
     "output_type": "execute_result"
    }
   ],
   "source": [
    "orders['Product.Name'].nunique()"
   ]
  },
  {
   "cell_type": "code",
   "execution_count": 140,
   "id": "25d60879",
   "metadata": {},
   "outputs": [
    {
     "data": {
      "text/plain": [
       "25728"
      ]
     },
     "execution_count": 140,
     "metadata": {},
     "output_type": "execute_result"
    }
   ],
   "source": [
    "orders['Order.ID'].nunique()"
   ]
  },
  {
   "cell_type": "code",
   "execution_count": 142,
   "id": "7072c2eb",
   "metadata": {},
   "outputs": [
    {
     "data": {
      "text/plain": [
       "(51290, 25)"
      ]
     },
     "execution_count": 142,
     "metadata": {},
     "output_type": "execute_result"
    }
   ],
   "source": [
    "orders.shape"
   ]
  },
  {
   "cell_type": "code",
   "execution_count": null,
   "id": "36cd6eba",
   "metadata": {},
   "outputs": [],
   "source": []
  }
 ],
 "metadata": {
  "kernelspec": {
   "display_name": "Python 3",
   "language": "python",
   "name": "python3"
  },
  "language_info": {
   "codemirror_mode": {
    "name": "ipython",
    "version": 3
   },
   "file_extension": ".py",
   "mimetype": "text/x-python",
   "name": "python",
   "nbconvert_exporter": "python",
   "pygments_lexer": "ipython3",
   "version": "3.8.2"
  }
 },
 "nbformat": 4,
 "nbformat_minor": 5
}
