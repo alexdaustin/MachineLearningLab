{
 "cells": [
  {
   "cell_type": "code",
   "execution_count": 48,
   "metadata": {},
   "outputs": [],
   "source": [
    "import pandas as pd\n",
    "import numpy as np\n",
    "from sklearn import linear_model\n",
    "from sklearn.linear_model import LinearRegression\n",
    "from sklearn.linear_model import Ridge\n",
    "from sklearn.linear_model import LogisticRegression\n",
    "from sklearn.preprocessing import OneHotEncoder\n",
    "from sklearn.compose import ColumnTransformer\n",
    "from sklearn.cluster import KMeans\n",
    "from sklearn.metrics import silhouette_samples, silhouette_score\n",
    "from sklearn.preprocessing import StandardScaler\n",
    "from sklearn.feature_selection import SelectFromModel\n",
    "from sklearn.model_selection import ShuffleSplit\n",
    "import matplotlib.pyplot as plt\n",
    "import matplotlib.cm as cm\n",
    "import seaborn as sns\n",
    "import matplotlib.style as style\n",
    "style.use('fivethirtyeight')\n",
    "from sklearn.metrics import confusion_matrix"
   ]
  },
  {
   "cell_type": "code",
   "execution_count": 2,
   "metadata": {},
   "outputs": [],
   "source": [
    "orders = pd.read_csv('Orders.csv',index_col='Row.ID',\n",
    "                     parse_dates=['Order.Date','Ship.Date'])\n",
    "\n",
    "returns = pd.read_csv('Returns.csv')\n",
    "\n"
   ]
  },
  {
   "cell_type": "markdown",
   "metadata": {},
   "source": [
    "### problem 1"
   ]
  },
  {
   "cell_type": "code",
   "execution_count": 3,
   "metadata": {},
   "outputs": [],
   "source": [
    "def clean_numeric_col(df,col):\n",
    "    df[col] = pd.to_numeric(df[col].str.replace('$', '').str.replace(',',''))\n",
    "    return df[col]\n",
    "orders['Profit'] = clean_numeric_col(orders,'Profit')\n",
    "orders['Sales'] = clean_numeric_col(orders,'Sales')\n",
    "\n",
    "\n"
   ]
  },
  {
   "cell_type": "markdown",
   "metadata": {},
   "source": [
    "### problem 2"
   ]
  },
  {
   "cell_type": "code",
   "execution_count": 4,
   "metadata": {},
   "outputs": [
    {
     "data": {
      "text/plain": [
       "Index(['Order.ID', 'Order.Date', 'Ship.Date', 'Ship.Mode', 'Customer.ID',\n",
       "       'Customer.Name', 'Segment', 'Postal.Code', 'City', 'State', 'Country',\n",
       "       'Region', 'Market', 'Product.ID', 'Category', 'Sub.Category',\n",
       "       'Product.Name', 'Sales', 'Quantity', 'Discount', 'Profit',\n",
       "       'Shipping.Cost', 'Order.Priority'],\n",
       "      dtype='object')"
      ]
     },
     "execution_count": 4,
     "metadata": {},
     "output_type": "execute_result"
    }
   ],
   "source": [
    "orders.columns"
   ]
  },
  {
   "cell_type": "code",
   "execution_count": 5,
   "metadata": {},
   "outputs": [
    {
     "data": {
      "text/plain": [
       "Timestamp('2015-10-02 00:00:00')"
      ]
     },
     "execution_count": 5,
     "metadata": {},
     "output_type": "execute_result"
    }
   ],
   "source": [
    "orders.loc[1,'Order.Date']"
   ]
  },
  {
   "cell_type": "code",
   "execution_count": 6,
   "metadata": {},
   "outputs": [
    {
     "data": {
      "text/html": [
       "<div>\n",
       "<style scoped>\n",
       "    .dataframe tbody tr th:only-of-type {\n",
       "        vertical-align: middle;\n",
       "    }\n",
       "\n",
       "    .dataframe tbody tr th {\n",
       "        vertical-align: top;\n",
       "    }\n",
       "\n",
       "    .dataframe thead th {\n",
       "        text-align: right;\n",
       "    }\n",
       "</style>\n",
       "<table border=\"1\" class=\"dataframe\">\n",
       "  <thead>\n",
       "    <tr style=\"text-align: right;\">\n",
       "      <th></th>\n",
       "      <th>Order.ID</th>\n",
       "      <th>Order.Date</th>\n",
       "      <th>Ship.Date</th>\n",
       "      <th>Ship.Mode</th>\n",
       "      <th>Customer.ID</th>\n",
       "      <th>Customer.Name</th>\n",
       "      <th>Segment</th>\n",
       "      <th>Postal.Code</th>\n",
       "      <th>City</th>\n",
       "      <th>State</th>\n",
       "      <th>...</th>\n",
       "      <th>Product.ID</th>\n",
       "      <th>Category</th>\n",
       "      <th>Sub.Category</th>\n",
       "      <th>Product.Name</th>\n",
       "      <th>Sales</th>\n",
       "      <th>Quantity</th>\n",
       "      <th>Discount</th>\n",
       "      <th>Profit</th>\n",
       "      <th>Shipping.Cost</th>\n",
       "      <th>Order.Priority</th>\n",
       "    </tr>\n",
       "    <tr>\n",
       "      <th>Row.ID</th>\n",
       "      <th></th>\n",
       "      <th></th>\n",
       "      <th></th>\n",
       "      <th></th>\n",
       "      <th></th>\n",
       "      <th></th>\n",
       "      <th></th>\n",
       "      <th></th>\n",
       "      <th></th>\n",
       "      <th></th>\n",
       "      <th></th>\n",
       "      <th></th>\n",
       "      <th></th>\n",
       "      <th></th>\n",
       "      <th></th>\n",
       "      <th></th>\n",
       "      <th></th>\n",
       "      <th></th>\n",
       "      <th></th>\n",
       "      <th></th>\n",
       "      <th></th>\n",
       "    </tr>\n",
       "  </thead>\n",
       "  <tbody>\n",
       "    <tr>\n",
       "      <th>40098</th>\n",
       "      <td>CA-2014-AB10015140-41954</td>\n",
       "      <td>2014-11-11</td>\n",
       "      <td>2014-11-13</td>\n",
       "      <td>First Class</td>\n",
       "      <td>AB-100151402</td>\n",
       "      <td>Aaron Bergman</td>\n",
       "      <td>Consumer</td>\n",
       "      <td>73120.0</td>\n",
       "      <td>Oklahoma City</td>\n",
       "      <td>Oklahoma</td>\n",
       "      <td>...</td>\n",
       "      <td>TEC-PH-5816</td>\n",
       "      <td>Technology</td>\n",
       "      <td>Phones</td>\n",
       "      <td>Samsung Convoy 3</td>\n",
       "      <td>221.98</td>\n",
       "      <td>2</td>\n",
       "      <td>0.0</td>\n",
       "      <td>62.15</td>\n",
       "      <td>40.77</td>\n",
       "      <td>High</td>\n",
       "    </tr>\n",
       "    <tr>\n",
       "      <th>26341</th>\n",
       "      <td>IN-2014-JR162107-41675</td>\n",
       "      <td>2014-02-05</td>\n",
       "      <td>2014-02-07</td>\n",
       "      <td>Second Class</td>\n",
       "      <td>JR-162107</td>\n",
       "      <td>Justin Ritter</td>\n",
       "      <td>Corporate</td>\n",
       "      <td>NaN</td>\n",
       "      <td>Wollongong</td>\n",
       "      <td>New South Wales</td>\n",
       "      <td>...</td>\n",
       "      <td>FUR-CH-5379</td>\n",
       "      <td>Furniture</td>\n",
       "      <td>Chairs</td>\n",
       "      <td>Novimex Executive Leather Armchair, Black</td>\n",
       "      <td>3709.40</td>\n",
       "      <td>9</td>\n",
       "      <td>0.1</td>\n",
       "      <td>-288.77</td>\n",
       "      <td>923.63</td>\n",
       "      <td>Critical</td>\n",
       "    </tr>\n",
       "    <tr>\n",
       "      <th>25330</th>\n",
       "      <td>IN-2014-CR127307-41929</td>\n",
       "      <td>2014-10-17</td>\n",
       "      <td>2014-10-18</td>\n",
       "      <td>First Class</td>\n",
       "      <td>CR-127307</td>\n",
       "      <td>Craig Reiter</td>\n",
       "      <td>Consumer</td>\n",
       "      <td>NaN</td>\n",
       "      <td>Brisbane</td>\n",
       "      <td>Queensland</td>\n",
       "      <td>...</td>\n",
       "      <td>TEC-PH-5356</td>\n",
       "      <td>Technology</td>\n",
       "      <td>Phones</td>\n",
       "      <td>Nokia Smart Phone, with Caller ID</td>\n",
       "      <td>5175.17</td>\n",
       "      <td>9</td>\n",
       "      <td>0.1</td>\n",
       "      <td>919.97</td>\n",
       "      <td>915.49</td>\n",
       "      <td>Medium</td>\n",
       "    </tr>\n",
       "    <tr>\n",
       "      <th>13524</th>\n",
       "      <td>ES-2014-KM1637548-41667</td>\n",
       "      <td>2014-01-28</td>\n",
       "      <td>2014-01-30</td>\n",
       "      <td>First Class</td>\n",
       "      <td>KM-1637548</td>\n",
       "      <td>Katherine Murray</td>\n",
       "      <td>Home Office</td>\n",
       "      <td>NaN</td>\n",
       "      <td>Berlin</td>\n",
       "      <td>Berlin</td>\n",
       "      <td>...</td>\n",
       "      <td>TEC-PH-5267</td>\n",
       "      <td>Technology</td>\n",
       "      <td>Phones</td>\n",
       "      <td>Motorola Smart Phone, Cordless</td>\n",
       "      <td>2892.51</td>\n",
       "      <td>5</td>\n",
       "      <td>0.1</td>\n",
       "      <td>-96.54</td>\n",
       "      <td>910.16</td>\n",
       "      <td>Medium</td>\n",
       "    </tr>\n",
       "    <tr>\n",
       "      <th>47221</th>\n",
       "      <td>SG-2014-RH9495111-41948</td>\n",
       "      <td>2014-11-05</td>\n",
       "      <td>2014-11-06</td>\n",
       "      <td>Same Day</td>\n",
       "      <td>RH-9495111</td>\n",
       "      <td>Rick Hansen</td>\n",
       "      <td>Consumer</td>\n",
       "      <td>NaN</td>\n",
       "      <td>Dakar</td>\n",
       "      <td>Dakar</td>\n",
       "      <td>...</td>\n",
       "      <td>TEC-CO-6011</td>\n",
       "      <td>Technology</td>\n",
       "      <td>Copiers</td>\n",
       "      <td>Sharp Wireless Fax, High-Speed</td>\n",
       "      <td>2832.96</td>\n",
       "      <td>8</td>\n",
       "      <td>0.0</td>\n",
       "      <td>311.52</td>\n",
       "      <td>903.04</td>\n",
       "      <td>Critical</td>\n",
       "    </tr>\n",
       "  </tbody>\n",
       "</table>\n",
       "<p>5 rows × 23 columns</p>\n",
       "</div>"
      ],
      "text/plain": [
       "                        Order.ID Order.Date  Ship.Date     Ship.Mode  \\\n",
       "Row.ID                                                                 \n",
       "40098   CA-2014-AB10015140-41954 2014-11-11 2014-11-13   First Class   \n",
       "26341     IN-2014-JR162107-41675 2014-02-05 2014-02-07  Second Class   \n",
       "25330     IN-2014-CR127307-41929 2014-10-17 2014-10-18   First Class   \n",
       "13524    ES-2014-KM1637548-41667 2014-01-28 2014-01-30   First Class   \n",
       "47221    SG-2014-RH9495111-41948 2014-11-05 2014-11-06      Same Day   \n",
       "\n",
       "         Customer.ID     Customer.Name      Segment  Postal.Code  \\\n",
       "Row.ID                                                             \n",
       "40098   AB-100151402     Aaron Bergman     Consumer      73120.0   \n",
       "26341      JR-162107     Justin Ritter    Corporate          NaN   \n",
       "25330      CR-127307      Craig Reiter     Consumer          NaN   \n",
       "13524     KM-1637548  Katherine Murray  Home Office          NaN   \n",
       "47221     RH-9495111       Rick Hansen     Consumer          NaN   \n",
       "\n",
       "                 City            State  ...   Product.ID    Category  \\\n",
       "Row.ID                                  ...                            \n",
       "40098   Oklahoma City         Oklahoma  ...  TEC-PH-5816  Technology   \n",
       "26341      Wollongong  New South Wales  ...  FUR-CH-5379   Furniture   \n",
       "25330        Brisbane       Queensland  ...  TEC-PH-5356  Technology   \n",
       "13524          Berlin           Berlin  ...  TEC-PH-5267  Technology   \n",
       "47221           Dakar            Dakar  ...  TEC-CO-6011  Technology   \n",
       "\n",
       "       Sub.Category                               Product.Name    Sales  \\\n",
       "Row.ID                                                                    \n",
       "40098        Phones                           Samsung Convoy 3   221.98   \n",
       "26341        Chairs  Novimex Executive Leather Armchair, Black  3709.40   \n",
       "25330        Phones          Nokia Smart Phone, with Caller ID  5175.17   \n",
       "13524        Phones             Motorola Smart Phone, Cordless  2892.51   \n",
       "47221       Copiers             Sharp Wireless Fax, High-Speed  2832.96   \n",
       "\n",
       "       Quantity Discount  Profit  Shipping.Cost  Order.Priority  \n",
       "Row.ID                                                           \n",
       "40098         2      0.0   62.15          40.77            High  \n",
       "26341         9      0.1 -288.77         923.63        Critical  \n",
       "25330         9      0.1  919.97         915.49          Medium  \n",
       "13524         5      0.1  -96.54         910.16          Medium  \n",
       "47221         8      0.0  311.52         903.04        Critical  \n",
       "\n",
       "[5 rows x 23 columns]"
      ]
     },
     "execution_count": 6,
     "metadata": {},
     "output_type": "execute_result"
    }
   ],
   "source": [
    "orders.head()"
   ]
  },
  {
   "cell_type": "code",
   "execution_count": 7,
   "metadata": {},
   "outputs": [
    {
     "data": {
      "text/plain": [
       "Index(['Order.ID', 'Order.Date', 'Ship.Date', 'Ship.Mode', 'Customer.ID',\n",
       "       'Customer.Name', 'Segment', 'Postal.Code', 'City', 'State', 'Country',\n",
       "       'Region', 'Market', 'Product.ID', 'Category', 'Sub.Category',\n",
       "       'Product.Name', 'Sales', 'Quantity', 'Discount', 'Profit',\n",
       "       'Shipping.Cost', 'Order.Priority'],\n",
       "      dtype='object')"
      ]
     },
     "execution_count": 7,
     "metadata": {},
     "output_type": "execute_result"
    }
   ],
   "source": [
    "orders.columns"
   ]
  },
  {
   "cell_type": "code",
   "execution_count": 8,
   "metadata": {},
   "outputs": [
    {
     "data": {
      "text/plain": [
       "array(['Central US', 'Oceania', 'Western Europe', 'Western Africa',\n",
       "       'Western US', 'Southern Asia', 'Western Asia', 'South America',\n",
       "       'Eastern Asia', 'Southern Europe', 'Eastern Africa',\n",
       "       'Eastern Europe', 'Northern Europe', 'Central America',\n",
       "       'Eastern US', 'Caribbean', 'Central Africa', 'Southeastern Asia',\n",
       "       'Southern US', 'North Africa', 'Southern Africa', 'Canada',\n",
       "       'Central Asia'], dtype=object)"
      ]
     },
     "execution_count": 8,
     "metadata": {},
     "output_type": "execute_result"
    }
   ],
   "source": [
    "orders.Region.unique()"
   ]
  },
  {
   "cell_type": "code",
   "execution_count": 9,
   "metadata": {},
   "outputs": [],
   "source": [
    "orders['order_year'] = orders['Order.Date'].dt.year\n",
    "orders['order_month'] = orders['Order.Date'].dt.month"
   ]
  },
  {
   "cell_type": "code",
   "execution_count": 10,
   "metadata": {},
   "outputs": [
    {
     "data": {
      "text/plain": [
       "array([2014, 2012, 2013, 2015], dtype=int64)"
      ]
     },
     "execution_count": 10,
     "metadata": {},
     "output_type": "execute_result"
    }
   ],
   "source": [
    "orders['order_year'].unique()"
   ]
  },
  {
   "cell_type": "code",
   "execution_count": 11,
   "metadata": {},
   "outputs": [
    {
     "data": {
      "text/html": [
       "<div>\n",
       "<style scoped>\n",
       "    .dataframe tbody tr th:only-of-type {\n",
       "        vertical-align: middle;\n",
       "    }\n",
       "\n",
       "    .dataframe tbody tr th {\n",
       "        vertical-align: top;\n",
       "    }\n",
       "\n",
       "    .dataframe thead th {\n",
       "        text-align: right;\n",
       "    }\n",
       "</style>\n",
       "<table border=\"1\" class=\"dataframe\">\n",
       "  <thead>\n",
       "    <tr style=\"text-align: right;\">\n",
       "      <th></th>\n",
       "      <th>order_month</th>\n",
       "      <th>Quantity</th>\n",
       "    </tr>\n",
       "  </thead>\n",
       "  <tbody>\n",
       "    <tr>\n",
       "      <th>0</th>\n",
       "      <td>1</td>\n",
       "      <td>8872</td>\n",
       "    </tr>\n",
       "    <tr>\n",
       "      <th>1</th>\n",
       "      <td>2</td>\n",
       "      <td>7429</td>\n",
       "    </tr>\n",
       "    <tr>\n",
       "      <th>2</th>\n",
       "      <td>3</td>\n",
       "      <td>10390</td>\n",
       "    </tr>\n",
       "    <tr>\n",
       "      <th>3</th>\n",
       "      <td>4</td>\n",
       "      <td>10466</td>\n",
       "    </tr>\n",
       "    <tr>\n",
       "      <th>4</th>\n",
       "      <td>5</td>\n",
       "      <td>13196</td>\n",
       "    </tr>\n",
       "    <tr>\n",
       "      <th>5</th>\n",
       "      <td>6</td>\n",
       "      <td>18009</td>\n",
       "    </tr>\n",
       "    <tr>\n",
       "      <th>6</th>\n",
       "      <td>7</td>\n",
       "      <td>11046</td>\n",
       "    </tr>\n",
       "    <tr>\n",
       "      <th>7</th>\n",
       "      <td>8</td>\n",
       "      <td>17596</td>\n",
       "    </tr>\n",
       "    <tr>\n",
       "      <th>8</th>\n",
       "      <td>9</td>\n",
       "      <td>20479</td>\n",
       "    </tr>\n",
       "    <tr>\n",
       "      <th>9</th>\n",
       "      <td>10</td>\n",
       "      <td>16303</td>\n",
       "    </tr>\n",
       "    <tr>\n",
       "      <th>10</th>\n",
       "      <td>11</td>\n",
       "      <td>22379</td>\n",
       "    </tr>\n",
       "    <tr>\n",
       "      <th>11</th>\n",
       "      <td>12</td>\n",
       "      <td>22147</td>\n",
       "    </tr>\n",
       "  </tbody>\n",
       "</table>\n",
       "</div>"
      ],
      "text/plain": [
       "    order_month  Quantity\n",
       "0             1      8872\n",
       "1             2      7429\n",
       "2             3     10390\n",
       "3             4     10466\n",
       "4             5     13196\n",
       "5             6     18009\n",
       "6             7     11046\n",
       "7             8     17596\n",
       "8             9     20479\n",
       "9            10     16303\n",
       "10           11     22379\n",
       "11           12     22147"
      ]
     },
     "execution_count": 11,
     "metadata": {},
     "output_type": "execute_result"
    }
   ],
   "source": [
    "orders.groupby('order_month').agg({'Quantity':'sum'}).reset_index()"
   ]
  },
  {
   "cell_type": "code",
   "execution_count": 12,
   "metadata": {},
   "outputs": [
    {
     "data": {
      "image/png": "[encoded data removed]",
      "text/plain": [
       "<Figure size 432x288 with 1 Axes>"
      ]
     },
     "metadata": {},
     "output_type": "display_data"
    }
   ],
   "source": [
    "graph_df = orders.groupby('order_month').agg({'Quantity':'sum'}).reset_index()\n",
    "g = sns.lineplot(data = graph_df, x = 'order_month',y='Quantity')\n",
    "plt.show()"
   ]
  },
  {
   "cell_type": "code",
   "execution_count": 13,
   "metadata": {},
   "outputs": [
    {
     "data": {
      "image/png": "[encoded data removed]",
      "text/plain": [
       "<Figure size 432x288 with 1 Axes>"
      ]
     },
     "metadata": {},
     "output_type": "display_data"
    }
   ],
   "source": [
    "graph_df = orders.groupby(['order_month','order_year']).agg({'Quantity':'sum'}).reset_index()\n",
    "g = sns.lineplot(data = graph_df, x = 'order_month',y='Quantity',\n",
    "                hue='order_year')\n",
    "plt.show()"
   ]
  },
  {
   "cell_type": "code",
   "execution_count": 14,
   "metadata": {},
   "outputs": [
    {
     "data": {
      "image/png": "[encoded data removed]",
      "text/plain": [
       "<Figure size 432x288 with 1 Axes>"
      ]
     },
     "metadata": {},
     "output_type": "display_data"
    }
   ],
   "source": [
    "# graph_df = \n",
    "graph_df = orders.groupby(['order_month','Category']).agg({'Quantity':'sum'}).reset_index()\n",
    "g = sns.lineplot(data = graph_df, x = 'order_month',y='Quantity',\n",
    "                hue='Category')\n",
    "plt.show()"
   ]
  },
  {
   "cell_type": "code",
   "execution_count": 15,
   "metadata": {},
   "outputs": [
    {
     "data": {
      "image/png": "[encoded data removed]",
      "text/plain": [
       "<Figure size 875.775x720 with 4 Axes>"
      ]
     },
     "metadata": {},
     "output_type": "display_data"
    }
   ],
   "source": [
    "graph_df = orders.groupby(['order_month','order_year','Category']).agg({'Quantity':'sum'}).reset_index()\n",
    "g = sns.relplot(data = graph_df, x = 'order_month',y='Quantity',\n",
    "                hue='Category',col='order_year',kind='line',col_wrap=2)\n",
    "plt.show()"
   ]
  },
  {
   "cell_type": "code",
   "execution_count": 16,
   "metadata": {},
   "outputs": [
    {
     "data": {
      "text/plain": [
       "50211"
      ]
     },
     "execution_count": 16,
     "metadata": {},
     "output_type": "execute_result"
    }
   ],
   "source": [
    "orders.shape[0]-returns.shape[0]"
   ]
  },
  {
   "cell_type": "code",
   "execution_count": 17,
   "metadata": {},
   "outputs": [
    {
     "data": {
      "text/plain": [
       "(1079, 3)"
      ]
     },
     "execution_count": 17,
     "metadata": {},
     "output_type": "execute_result"
    }
   ],
   "source": [
    "returns.shape"
   ]
  },
  {
   "cell_type": "code",
   "execution_count": 18,
   "metadata": {},
   "outputs": [
    {
     "data": {
      "text/html": [
       "<div>\n",
       "<style scoped>\n",
       "    .dataframe tbody tr th:only-of-type {\n",
       "        vertical-align: middle;\n",
       "    }\n",
       "\n",
       "    .dataframe tbody tr th {\n",
       "        vertical-align: top;\n",
       "    }\n",
       "\n",
       "    .dataframe thead th {\n",
       "        text-align: right;\n",
       "    }\n",
       "</style>\n",
       "<table border=\"1\" class=\"dataframe\">\n",
       "  <thead>\n",
       "    <tr style=\"text-align: right;\">\n",
       "      <th></th>\n",
       "      <th>Returned</th>\n",
       "      <th>Order ID</th>\n",
       "      <th>Region</th>\n",
       "    </tr>\n",
       "  </thead>\n",
       "  <tbody>\n",
       "    <tr>\n",
       "      <th>0</th>\n",
       "      <td>Yes</td>\n",
       "      <td>CA-2012-SA20830140-41210</td>\n",
       "      <td>Central US</td>\n",
       "    </tr>\n",
       "    <tr>\n",
       "      <th>1</th>\n",
       "      <td>Yes</td>\n",
       "      <td>IN-2012-PB19210127-41259</td>\n",
       "      <td>Eastern Asia</td>\n",
       "    </tr>\n",
       "    <tr>\n",
       "      <th>2</th>\n",
       "      <td>Yes</td>\n",
       "      <td>CA-2012-SC20095140-41174</td>\n",
       "      <td>Central US</td>\n",
       "    </tr>\n",
       "    <tr>\n",
       "      <th>3</th>\n",
       "      <td>Yes</td>\n",
       "      <td>IN-2015-JH158207-42140</td>\n",
       "      <td>Oceania</td>\n",
       "    </tr>\n",
       "    <tr>\n",
       "      <th>4</th>\n",
       "      <td>Yes</td>\n",
       "      <td>IN-2014-LC168857-41747</td>\n",
       "      <td>Oceania</td>\n",
       "    </tr>\n",
       "  </tbody>\n",
       "</table>\n",
       "</div>"
      ],
      "text/plain": [
       "  Returned                  Order ID        Region\n",
       "0      Yes  CA-2012-SA20830140-41210    Central US\n",
       "1      Yes  IN-2012-PB19210127-41259  Eastern Asia\n",
       "2      Yes  CA-2012-SC20095140-41174    Central US\n",
       "3      Yes    IN-2015-JH158207-42140       Oceania\n",
       "4      Yes    IN-2014-LC168857-41747       Oceania"
      ]
     },
     "execution_count": 18,
     "metadata": {},
     "output_type": "execute_result"
    }
   ],
   "source": [
    "returns.head()"
   ]
  },
  {
   "cell_type": "code",
   "execution_count": 31,
   "metadata": {},
   "outputs": [],
   "source": [
    "OR_merge = orders.merge(returns, \n",
    "                        how='left', left_on='Order.ID', \n",
    "                        right_on='Order ID')\n",
    "\n",
    "OR_merge.loc[OR_merge['Returned'].isna(),'return_flag'] = 0\n",
    "OR_merge.loc[~OR_merge['Returned'].isna(),'return_flag'] = 1"
   ]
  },
  {
   "cell_type": "code",
   "execution_count": 32,
   "metadata": {},
   "outputs": [
    {
     "data": {
      "text/plain": [
       "Index(['Order.ID', 'Order.Date', 'Ship.Date', 'Ship.Mode', 'Customer.ID',\n",
       "       'Customer.Name', 'Segment', 'Postal.Code', 'City', 'State', 'Country',\n",
       "       'Region_x', 'Market', 'Product.ID', 'Category', 'Sub.Category',\n",
       "       'Product.Name', 'Sales', 'Quantity', 'Discount', 'Profit',\n",
       "       'Shipping.Cost', 'Order.Priority', 'order_year', 'order_month',\n",
       "       'Returned', 'Order ID', 'Region_y', 'return_flag'],\n",
       "      dtype='object')"
      ]
     },
     "execution_count": 32,
     "metadata": {},
     "output_type": "execute_result"
    }
   ],
   "source": [
    "OR_merge.columns"
   ]
  },
  {
   "cell_type": "code",
   "execution_count": 22,
   "metadata": {
    "scrolled": true
   },
   "outputs": [],
   "source": [
    "# OR_merge['process_time'] = OR_merge['Ship.Date'] - OR_merge['Order.Date']\n",
    "# OR_merge.groupby(['return_flag']).agg({'process_time':'mean'})\n"
   ]
  },
  {
   "cell_type": "code",
   "execution_count": null,
   "metadata": {},
   "outputs": [],
   "source": [
    "# OR_merge.groupby(['return_flag']).agg({'process_time':'mean'})"
   ]
  },
  {
   "cell_type": "code",
   "execution_count": 33,
   "metadata": {},
   "outputs": [],
   "source": [
    "# product_count = OR_merge.groupby(['Product.ID']).agg({'return_flag':'sum'}).reset_index()\n",
    "# product_count.columns = ['Product.ID','product_return_total']\n",
    "# OR_merge = orders.merge(product_count, \n",
    "#                         how='left', left_on='Order.ID', \n",
    "#                         right_on='Order ID')\n"
   ]
  },
  {
   "cell_type": "code",
   "execution_count": 24,
   "metadata": {},
   "outputs": [
    {
     "data": {
      "text/html": [
       "<div>\n",
       "<style scoped>\n",
       "    .dataframe tbody tr th:only-of-type {\n",
       "        vertical-align: middle;\n",
       "    }\n",
       "\n",
       "    .dataframe tbody tr th {\n",
       "        vertical-align: top;\n",
       "    }\n",
       "\n",
       "    .dataframe thead th {\n",
       "        text-align: right;\n",
       "    }\n",
       "</style>\n",
       "<table border=\"1\" class=\"dataframe\">\n",
       "  <thead>\n",
       "    <tr style=\"text-align: right;\">\n",
       "      <th></th>\n",
       "      <th>Order.ID</th>\n",
       "      <th>Order.Date</th>\n",
       "      <th>Ship.Date</th>\n",
       "      <th>Ship.Mode</th>\n",
       "      <th>Customer.ID</th>\n",
       "      <th>Customer.Name</th>\n",
       "      <th>Segment</th>\n",
       "      <th>Postal.Code</th>\n",
       "      <th>City</th>\n",
       "      <th>State</th>\n",
       "      <th>...</th>\n",
       "      <th>Product.Name</th>\n",
       "      <th>Sales</th>\n",
       "      <th>Quantity</th>\n",
       "      <th>Discount</th>\n",
       "      <th>Profit</th>\n",
       "      <th>Shipping.Cost</th>\n",
       "      <th>Order.Priority</th>\n",
       "      <th>order_year</th>\n",
       "      <th>order_month</th>\n",
       "      <th>product_return_total</th>\n",
       "    </tr>\n",
       "  </thead>\n",
       "  <tbody>\n",
       "    <tr>\n",
       "      <th>0</th>\n",
       "      <td>CA-2014-AB10015140-41954</td>\n",
       "      <td>2014-11-11</td>\n",
       "      <td>2014-11-13</td>\n",
       "      <td>First Class</td>\n",
       "      <td>AB-100151402</td>\n",
       "      <td>Aaron Bergman</td>\n",
       "      <td>Consumer</td>\n",
       "      <td>73120.0</td>\n",
       "      <td>Oklahoma City</td>\n",
       "      <td>Oklahoma</td>\n",
       "      <td>...</td>\n",
       "      <td>Samsung Convoy 3</td>\n",
       "      <td>221.98</td>\n",
       "      <td>2</td>\n",
       "      <td>0.0</td>\n",
       "      <td>62.15</td>\n",
       "      <td>40.77</td>\n",
       "      <td>High</td>\n",
       "      <td>2014</td>\n",
       "      <td>11</td>\n",
       "      <td>0.0</td>\n",
       "    </tr>\n",
       "    <tr>\n",
       "      <th>1</th>\n",
       "      <td>IN-2014-JR162107-41675</td>\n",
       "      <td>2014-02-05</td>\n",
       "      <td>2014-02-07</td>\n",
       "      <td>Second Class</td>\n",
       "      <td>JR-162107</td>\n",
       "      <td>Justin Ritter</td>\n",
       "      <td>Corporate</td>\n",
       "      <td>NaN</td>\n",
       "      <td>Wollongong</td>\n",
       "      <td>New South Wales</td>\n",
       "      <td>...</td>\n",
       "      <td>Novimex Executive Leather Armchair, Black</td>\n",
       "      <td>3709.40</td>\n",
       "      <td>9</td>\n",
       "      <td>0.1</td>\n",
       "      <td>-288.77</td>\n",
       "      <td>923.63</td>\n",
       "      <td>Critical</td>\n",
       "      <td>2014</td>\n",
       "      <td>2</td>\n",
       "      <td>2.0</td>\n",
       "    </tr>\n",
       "    <tr>\n",
       "      <th>2</th>\n",
       "      <td>IN-2014-CR127307-41929</td>\n",
       "      <td>2014-10-17</td>\n",
       "      <td>2014-10-18</td>\n",
       "      <td>First Class</td>\n",
       "      <td>CR-127307</td>\n",
       "      <td>Craig Reiter</td>\n",
       "      <td>Consumer</td>\n",
       "      <td>NaN</td>\n",
       "      <td>Brisbane</td>\n",
       "      <td>Queensland</td>\n",
       "      <td>...</td>\n",
       "      <td>Nokia Smart Phone, with Caller ID</td>\n",
       "      <td>5175.17</td>\n",
       "      <td>9</td>\n",
       "      <td>0.1</td>\n",
       "      <td>919.97</td>\n",
       "      <td>915.49</td>\n",
       "      <td>Medium</td>\n",
       "      <td>2014</td>\n",
       "      <td>10</td>\n",
       "      <td>2.0</td>\n",
       "    </tr>\n",
       "    <tr>\n",
       "      <th>3</th>\n",
       "      <td>ES-2014-KM1637548-41667</td>\n",
       "      <td>2014-01-28</td>\n",
       "      <td>2014-01-30</td>\n",
       "      <td>First Class</td>\n",
       "      <td>KM-1637548</td>\n",
       "      <td>Katherine Murray</td>\n",
       "      <td>Home Office</td>\n",
       "      <td>NaN</td>\n",
       "      <td>Berlin</td>\n",
       "      <td>Berlin</td>\n",
       "      <td>...</td>\n",
       "      <td>Motorola Smart Phone, Cordless</td>\n",
       "      <td>2892.51</td>\n",
       "      <td>5</td>\n",
       "      <td>0.1</td>\n",
       "      <td>-96.54</td>\n",
       "      <td>910.16</td>\n",
       "      <td>Medium</td>\n",
       "      <td>2014</td>\n",
       "      <td>1</td>\n",
       "      <td>0.0</td>\n",
       "    </tr>\n",
       "    <tr>\n",
       "      <th>4</th>\n",
       "      <td>SG-2014-RH9495111-41948</td>\n",
       "      <td>2014-11-05</td>\n",
       "      <td>2014-11-06</td>\n",
       "      <td>Same Day</td>\n",
       "      <td>RH-9495111</td>\n",
       "      <td>Rick Hansen</td>\n",
       "      <td>Consumer</td>\n",
       "      <td>NaN</td>\n",
       "      <td>Dakar</td>\n",
       "      <td>Dakar</td>\n",
       "      <td>...</td>\n",
       "      <td>Sharp Wireless Fax, High-Speed</td>\n",
       "      <td>2832.96</td>\n",
       "      <td>8</td>\n",
       "      <td>0.0</td>\n",
       "      <td>311.52</td>\n",
       "      <td>903.04</td>\n",
       "      <td>Critical</td>\n",
       "      <td>2014</td>\n",
       "      <td>11</td>\n",
       "      <td>0.0</td>\n",
       "    </tr>\n",
       "  </tbody>\n",
       "</table>\n",
       "<p>5 rows × 26 columns</p>\n",
       "</div>"
      ],
      "text/plain": [
       "                   Order.ID Order.Date  Ship.Date     Ship.Mode   Customer.ID  \\\n",
       "0  CA-2014-AB10015140-41954 2014-11-11 2014-11-13   First Class  AB-100151402   \n",
       "1    IN-2014-JR162107-41675 2014-02-05 2014-02-07  Second Class     JR-162107   \n",
       "2    IN-2014-CR127307-41929 2014-10-17 2014-10-18   First Class     CR-127307   \n",
       "3   ES-2014-KM1637548-41667 2014-01-28 2014-01-30   First Class    KM-1637548   \n",
       "4   SG-2014-RH9495111-41948 2014-11-05 2014-11-06      Same Day    RH-9495111   \n",
       "\n",
       "      Customer.Name      Segment  Postal.Code           City            State  \\\n",
       "0     Aaron Bergman     Consumer      73120.0  Oklahoma City         Oklahoma   \n",
       "1     Justin Ritter    Corporate          NaN     Wollongong  New South Wales   \n",
       "2      Craig Reiter     Consumer          NaN       Brisbane       Queensland   \n",
       "3  Katherine Murray  Home Office          NaN         Berlin           Berlin   \n",
       "4       Rick Hansen     Consumer          NaN          Dakar            Dakar   \n",
       "\n",
       "   ...                               Product.Name    Sales Quantity Discount  \\\n",
       "0  ...                           Samsung Convoy 3   221.98        2      0.0   \n",
       "1  ...  Novimex Executive Leather Armchair, Black  3709.40        9      0.1   \n",
       "2  ...          Nokia Smart Phone, with Caller ID  5175.17        9      0.1   \n",
       "3  ...             Motorola Smart Phone, Cordless  2892.51        5      0.1   \n",
       "4  ...             Sharp Wireless Fax, High-Speed  2832.96        8      0.0   \n",
       "\n",
       "   Profit Shipping.Cost Order.Priority  order_year  order_month  \\\n",
       "0   62.15         40.77           High        2014           11   \n",
       "1 -288.77        923.63       Critical        2014            2   \n",
       "2  919.97        915.49         Medium        2014           10   \n",
       "3  -96.54        910.16         Medium        2014            1   \n",
       "4  311.52        903.04       Critical        2014           11   \n",
       "\n",
       "   product_return_total  \n",
       "0                   0.0  \n",
       "1                   2.0  \n",
       "2                   2.0  \n",
       "3                   0.0  \n",
       "4                   0.0  \n",
       "\n",
       "[5 rows x 26 columns]"
      ]
     },
     "execution_count": 24,
     "metadata": {},
     "output_type": "execute_result"
    }
   ],
   "source": [
    "OR_merge.head()"
   ]
  },
  {
   "cell_type": "code",
   "execution_count": 25,
   "metadata": {},
   "outputs": [
    {
     "data": {
      "text/html": [
       "<div>\n",
       "<style scoped>\n",
       "    .dataframe tbody tr th:only-of-type {\n",
       "        vertical-align: middle;\n",
       "    }\n",
       "\n",
       "    .dataframe tbody tr th {\n",
       "        vertical-align: top;\n",
       "    }\n",
       "\n",
       "    .dataframe thead th {\n",
       "        text-align: right;\n",
       "    }\n",
       "</style>\n",
       "<table border=\"1\" class=\"dataframe\">\n",
       "  <thead>\n",
       "    <tr style=\"text-align: right;\">\n",
       "      <th></th>\n",
       "      <th>Returned</th>\n",
       "      <th>Order ID</th>\n",
       "      <th>Region</th>\n",
       "    </tr>\n",
       "  </thead>\n",
       "  <tbody>\n",
       "    <tr>\n",
       "      <th>0</th>\n",
       "      <td>Yes</td>\n",
       "      <td>CA-2012-SA20830140-41210</td>\n",
       "      <td>Central US</td>\n",
       "    </tr>\n",
       "    <tr>\n",
       "      <th>1</th>\n",
       "      <td>Yes</td>\n",
       "      <td>IN-2012-PB19210127-41259</td>\n",
       "      <td>Eastern Asia</td>\n",
       "    </tr>\n",
       "    <tr>\n",
       "      <th>2</th>\n",
       "      <td>Yes</td>\n",
       "      <td>CA-2012-SC20095140-41174</td>\n",
       "      <td>Central US</td>\n",
       "    </tr>\n",
       "    <tr>\n",
       "      <th>3</th>\n",
       "      <td>Yes</td>\n",
       "      <td>IN-2015-JH158207-42140</td>\n",
       "      <td>Oceania</td>\n",
       "    </tr>\n",
       "    <tr>\n",
       "      <th>4</th>\n",
       "      <td>Yes</td>\n",
       "      <td>IN-2014-LC168857-41747</td>\n",
       "      <td>Oceania</td>\n",
       "    </tr>\n",
       "  </tbody>\n",
       "</table>\n",
       "</div>"
      ],
      "text/plain": [
       "  Returned                  Order ID        Region\n",
       "0      Yes  CA-2012-SA20830140-41210    Central US\n",
       "1      Yes  IN-2012-PB19210127-41259  Eastern Asia\n",
       "2      Yes  CA-2012-SC20095140-41174    Central US\n",
       "3      Yes    IN-2015-JH158207-42140       Oceania\n",
       "4      Yes    IN-2014-LC168857-41747       Oceania"
      ]
     },
     "execution_count": 25,
     "metadata": {},
     "output_type": "execute_result"
    }
   ],
   "source": [
    "returns.head()"
   ]
  },
  {
   "cell_type": "code",
   "execution_count": 27,
   "metadata": {},
   "outputs": [],
   "source": [
    "from sklearn.model_selection import StratifiedShuffleSplit\n",
    "# Stratified split authored by Alex A, generalized by Hayden W.\n",
    "def stratified_split(df,stratified_col,\n",
    "                     n_splits = 1,\n",
    "                     test_size = 0.25,\n",
    "                     random_state = 42):\n",
    "    '''\n",
    "    Completes a stratified split on unique rows of a dataframe\n",
    "    on specified column.\n",
    "    Parameters\n",
    "    ----------\n",
    "    df : pandas Dataframe\n",
    "        Dataframe to be split.\n",
    "    stratified_col : string\n",
    "        Column that stratification will be done on.\n",
    "    n_splits : integer, optional\n",
    "        number of splits. The default is 1.\n",
    "    test_size : float, optional\n",
    "        proportion in df_test. The default is 0.25.\n",
    "    random_state : integer, optional\n",
    "        The default is 42.\n",
    "    Returns\n",
    "    -------\n",
    "    df_train : pandas Dataframe\n",
    "        Dataframe after split.\n",
    "        Will have 1 - test_size proportion of rows.\n",
    "    df_test : pandas Dataframe\n",
    "        Dataframe after split.\n",
    "        Will have test_size proportion of rows.\n",
    "    '''\n",
    "    # Ensure clean index and remove duplicates\n",
    "    df.reset_index(inplace=True,drop=True)\n",
    "    df.drop_duplicates(inplace=True)\n",
    "    # Check for stratifications with single element.\n",
    "    value_count = df[stratified_col].value_counts(ascending=True).reset_index()\n",
    "    single_strat = list(value_count[value_count[stratified_col]==1]['index'])\n",
    "    # Remove single strats from split. They will be added later.\n",
    "    df_non_single_strat = df[~df[stratified_col].isin(single_strat)\n",
    "                             ].reset_index(drop=True)\n",
    "    # Perform stratified split.\n",
    "    split_specs = StratifiedShuffleSplit(n_splits = n_splits,\n",
    "                                      test_size = test_size,\n",
    "                                      random_state = random_state)\n",
    "    split = split_specs.split(df_non_single_strat,\n",
    "                              df_non_single_strat[stratified_col])\n",
    "    for train_index, test_index in split:\n",
    "        df_train = df_non_single_strat.loc[train_index].reset_index(drop=True)\n",
    "        df_test = df_non_single_strat.loc[test_index].reset_index(drop=True)\n",
    "    # Put single stratified splits into train.\n",
    "    df_train = pd.concat([df_train, df[df[stratified_col].isin(single_strat)]\n",
    "                          ]).reset_index(drop=True)\n",
    "    return df_train, df_test"
   ]
  },
  {
   "cell_type": "code",
   "execution_count": 34,
   "metadata": {},
   "outputs": [
    {
     "data": {
      "text/plain": [
       "['Order.ID',\n",
       " 'Order.Date',\n",
       " 'Ship.Date',\n",
       " 'Ship.Mode',\n",
       " 'Customer.ID',\n",
       " 'Customer.Name',\n",
       " 'Segment',\n",
       " 'Postal.Code',\n",
       " 'City',\n",
       " 'State',\n",
       " 'Country',\n",
       " 'Region_x',\n",
       " 'Market',\n",
       " 'Product.ID',\n",
       " 'Category',\n",
       " 'Sub.Category',\n",
       " 'Product.Name',\n",
       " 'Sales',\n",
       " 'Quantity',\n",
       " 'Discount',\n",
       " 'Profit',\n",
       " 'Shipping.Cost',\n",
       " 'Order.Priority',\n",
       " 'order_year',\n",
       " 'order_month',\n",
       " 'Returned',\n",
       " 'Order ID',\n",
       " 'Region_y',\n",
       " 'return_flag']"
      ]
     },
     "execution_count": 34,
     "metadata": {},
     "output_type": "execute_result"
    }
   ],
   "source": [
    "OR_merge.columns.to_list()"
   ]
  },
  {
   "cell_type": "code",
   "execution_count": 37,
   "metadata": {},
   "outputs": [],
   "source": [
    "product_count = OR_merge.groupby(['Product.ID']).agg({'return_flag':'sum'}).reset_index()\n",
    "product_count.columns = ['Product.ID','product_return_total']\n",
    "OR_merge = OR_merge.merge(product_count, \n",
    "                        how='left', left_on='Product.ID', \n",
    "                        right_on='Product.ID')"
   ]
  },
  {
   "cell_type": "code",
   "execution_count": 38,
   "metadata": {
    "scrolled": true
   },
   "outputs": [],
   "source": [
    "train, test = stratified_split(OR_merge,'return_flag', test_size=0.2)"
   ]
  },
  {
   "cell_type": "code",
   "execution_count": 39,
   "metadata": {},
   "outputs": [
    {
     "name": "stdout",
     "output_type": "stream",
     "text": [
      "(41032, 30)\n",
      "(10258, 30)\n"
     ]
    }
   ],
   "source": [
    "print(train.shape)\n",
    "print(test.shape)"
   ]
  },
  {
   "cell_type": "code",
   "execution_count": 44,
   "metadata": {},
   "outputs": [],
   "source": [
    "scaler = StandardScaler(with_mean=False)\n",
    "clf = LogisticRegression()"
   ]
  },
  {
   "cell_type": "code",
   "execution_count": 41,
   "metadata": {},
   "outputs": [
    {
     "data": {
      "text/plain": [
       "Index(['Order.ID', 'Order.Date', 'Ship.Date', 'Ship.Mode', 'Customer.ID',\n",
       "       'Customer.Name', 'Segment', 'Postal.Code', 'City', 'State', 'Country',\n",
       "       'Region_x', 'Market', 'Product.ID', 'Category', 'Sub.Category',\n",
       "       'Product.Name', 'Sales', 'Quantity', 'Discount', 'Profit',\n",
       "       'Shipping.Cost', 'Order.Priority', 'order_year', 'order_month',\n",
       "       'Returned', 'Order ID', 'Region_y', 'return_flag',\n",
       "       'product_return_total'],\n",
       "      dtype='object')"
      ]
     },
     "execution_count": 41,
     "metadata": {},
     "output_type": "execute_result"
    }
   ],
   "source": [
    "train.columns"
   ]
  },
  {
   "cell_type": "code",
   "execution_count": 45,
   "metadata": {},
   "outputs": [
    {
     "data": {
      "text/plain": [
       "0.9566192240202769"
      ]
     },
     "execution_count": 45,
     "metadata": {},
     "output_type": "execute_result"
    }
   ],
   "source": [
    "X = train.loc[:, ['Category', 'Sub.Category', 'Region_x', 'Segment', 'order_month', 'product_return_total', 'Ship.Mode', 'Market']]\n",
    "cats = ['Category', 'Sub.Category', 'Region_x', 'Segment', 'order_month', 'Ship.Mode', 'Market']\n",
    "\n",
    "transformer = ColumnTransformer([(\"Cat\", OneHotEncoder(drop='first'), cats)], remainder='passthrough')\n",
    "X = transformer.fit_transform(X)\n",
    "X = scaler.fit_transform(X)\n",
    "y = train['return_flag']\n",
    "\n",
    "clf.set_params(max_iter=1000)\n",
    "clf.fit(X,y)\n",
    "clf.score(X,y)"
   ]
  },
  {
   "cell_type": "code",
   "execution_count": 47,
   "metadata": {},
   "outputs": [
    {
     "data": {
      "text/plain": [
       "0.04328329108988107"
      ]
     },
     "execution_count": 47,
     "metadata": {},
     "output_type": "execute_result"
    }
   ],
   "source": [
    "np.mean(y)"
   ]
  },
  {
   "cell_type": "code",
   "execution_count": 49,
   "metadata": {},
   "outputs": [
    {
     "data": {
      "text/plain": [
       "array([[39252,     4],\n",
       "       [ 1776,     0]], dtype=int64)"
      ]
     },
     "execution_count": 49,
     "metadata": {},
     "output_type": "execute_result"
    }
   ],
   "source": [
    "confusion_matrix(y,clf.predict(X))"
   ]
  },
  {
   "cell_type": "code",
   "execution_count": 50,
   "metadata": {},
   "outputs": [],
   "source": [
    "clf.set_params(penalty='l1', C=0.01, random_state=42, solver='saga', max_iter=10000)\n",
    "selector = SelectFromModel(estimator=clf).fit(X, y)\n",
    "features = selector.get_support()"
   ]
  },
  {
   "cell_type": "code",
   "execution_count": 66,
   "metadata": {},
   "outputs": [
    {
     "name": "stdout",
     "output_type": "stream",
     "text": [
      "(41032, 61)\n"
     ]
    },
    {
     "data": {
      "text/plain": [
       "['Cat__x0_Office Supplies',\n",
       " 'Cat__x1_Fasteners',\n",
       " 'Cat__x1_Labels',\n",
       " 'Cat__x1_Storage',\n",
       " 'Cat__x2_Eastern Africa',\n",
       " 'Cat__x2_Eastern Asia',\n",
       " 'Cat__x2_Western US',\n",
       " 'Cat__x3_Home Office',\n",
       " 'Cat__x4_10',\n",
       " 'Cat__x4_12',\n",
       " 'Cat__x6_Europe',\n",
       " 'product_return_total']"
      ]
     },
     "execution_count": 66,
     "metadata": {},
     "output_type": "execute_result"
    }
   ],
   "source": [
    "X = train.loc[:, ['Category', 'Sub.Category', 'Region_x', 'Segment', 'order_month', 'product_return_total', 'Ship.Mode', 'Market']]\n",
    "\n",
    "transformer = ColumnTransformer([(\"Cat\", OneHotEncoder(drop='first'), cats)], remainder='passthrough')\n",
    "X = transformer.fit_transform(X)\n",
    "\n",
    "X = X.toarray()\n",
    "rename_dict = dict(zip(pd.DataFrame(X).columns, transformer.get_feature_names()))\n",
    "X = pd.DataFrame(X).rename(columns=rename_dict)\n",
    "print(X.shape)\n",
    "X.loc[:,features].columns.to_list()"
   ]
  },
  {
   "cell_type": "code",
   "execution_count": 68,
   "metadata": {},
   "outputs": [
    {
     "data": {
      "text/plain": [
       "0.9566923376876584"
      ]
     },
     "execution_count": 68,
     "metadata": {},
     "output_type": "execute_result"
    }
   ],
   "source": [
    "X = train.loc[:, ['Category', 'Sub.Category', 'Region_x', 'Segment', 'order_month', 'product_return_total', 'Ship.Mode', 'Market']]\n",
    "\n",
    "transformer = ColumnTransformer([(\"Cat\", OneHotEncoder(drop='first'), cats)], remainder='passthrough')\n",
    "X = transformer.fit_transform(X)\n",
    "X = scaler.fit_transform(X)\n",
    "y = train['return_flag']\n",
    "\n",
    "clf.set_params(penalty='l1', C=0.01, random_state=42, solver='saga', max_iter=10000)\n",
    "selector = SelectFromModel(estimator=clf)\n",
    "X = selector.fit_transform(X, y)\n",
    "\n",
    "clf = LogisticRegression()\n",
    "clf.fit(X,y)\n",
    "clf.score(X,y)\n"
   ]
  },
  {
   "cell_type": "code",
   "execution_count": 69,
   "metadata": {},
   "outputs": [
    {
     "data": {
      "text/plain": [
       "array([[39255,     1],\n",
       "       [ 1776,     0]], dtype=int64)"
      ]
     },
     "execution_count": 69,
     "metadata": {},
     "output_type": "execute_result"
    }
   ],
   "source": [
    "confusion_matrix(y,clf.predict(X))"
   ]
  }
 ],
 "metadata": {
  "kernelspec": {
   "display_name": "Python 3",
   "language": "python",
   "name": "python3"
  },
  "language_info": {
   "codemirror_mode": {
    "name": "ipython",
    "version": 3
   },
   "file_extension": ".py",
   "mimetype": "text/x-python",
   "name": "python",
   "nbconvert_exporter": "python",
   "pygments_lexer": "ipython3",
   "version": "3.8.5"
  }
 },
 "nbformat": 4,
 "nbformat_minor": 5
}
