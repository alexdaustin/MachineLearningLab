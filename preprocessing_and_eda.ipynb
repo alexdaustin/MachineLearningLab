{
 "cells": [
  {
   "cell_type": "markdown",
   "id": "be1821a9",
   "metadata": {},
   "source": [
    "## Part 1: Preprocessing and EDA\n"
   ]
  },
  {
   "cell_type": "markdown",
   "id": "2d6cf69f",
   "metadata": {},
   "source": [
    "### Data Import & Cleaning"
   ]
  },
  {
   "cell_type": "code",
   "execution_count": 40,
   "id": "84e95e3f",
   "metadata": {},
   "outputs": [],
   "source": [
    "import numpy as np\n",
    "import pandas as pd"
   ]
  },
  {
   "cell_type": "markdown",
   "id": "385ea856",
   "metadata": {},
   "source": [
    "### Problem 1: Data Import & Cleaning\n",
    "- convert profit and sales to numeric"
   ]
  },
  {
   "cell_type": "code",
   "execution_count": 41,
   "id": "b44727a3",
   "metadata": {},
   "outputs": [],
   "source": [
    "orders = pd.read_csv('Orders.csv', index_col=0)\n",
    "returns = pd.read_csv('Returns.csv', index_col=0)"
   ]
  },
  {
   "cell_type": "code",
   "execution_count": 42,
   "id": "b6ba3e0a",
   "metadata": {},
   "outputs": [],
   "source": [
    "# remove dollar sign\n",
    "cols_to_change = ['Profit', 'Sales']\n",
    "orders[cols_to_change] = orders[cols_to_change].replace({'\\$':''}, regex = True)\n",
    "orders[cols_to_change] = orders[cols_to_change].replace({'\\,':''}, regex = True)"
   ]
  },
  {
   "cell_type": "code",
   "execution_count": 46,
   "id": "d55300e9",
   "metadata": {},
   "outputs": [],
   "source": [
    "orders['Sales'] = pd.to_numeric(orders['Sales'])\n",
    "orders['Profit'] = pd.to_numeric(orders['Profit'])"
   ]
  },
  {
   "cell_type": "markdown",
   "id": "79df3052",
   "metadata": {},
   "source": [
    "### Problem 2: Inventory Management\n",
    "- look at seasonal trend\n",
    "- does the seasonal trend depend on different categories\n",
    "- Hint: look at the Quantity feature (number of products in an order)"
   ]
  },
  {
   "cell_type": "code",
   "execution_count": 50,
   "id": "c20fcbec",
   "metadata": {},
   "outputs": [
    {
     "data": {
      "text/plain": [
       "Index(['Order.ID', 'Order.Date', 'Ship.Date', 'Ship.Mode', 'Customer.ID',\n",
       "       'Customer.Name', 'Segment', 'Postal.Code', 'City', 'State', 'Country',\n",
       "       'Region', 'Market', 'Product.ID', 'Category', 'Sub.Category',\n",
       "       'Product.Name', 'Sales', 'Quantity', 'Discount', 'Profit',\n",
       "       'Shipping.Cost', 'Order.Priority'],\n",
       "      dtype='object')"
      ]
     },
     "execution_count": 50,
     "metadata": {},
     "output_type": "execute_result"
    }
   ],
   "source": [
    "orders.columns"
   ]
  },
  {
   "cell_type": "markdown",
   "id": "857b425f",
   "metadata": {},
   "source": [
    "### Problem 3: Customer Returns\n",
    "Merge returns and orders using Order.ID\n",
    "1. lost profits due to returns\n",
    "2. number of customers that returned more than one\n",
    "3. regions that return more orders\n",
    "4. Which categories and sub-categories are more likely to be returned"
   ]
  },
  {
   "cell_type": "code",
   "execution_count": null,
   "id": "54d34f63",
   "metadata": {},
   "outputs": [],
   "source": []
  }
 ],
 "metadata": {
  "kernelspec": {
   "display_name": "Python 3",
   "language": "python",
   "name": "python3"
  },
  "language_info": {
   "codemirror_mode": {
    "name": "ipython",
    "version": 3
   },
   "file_extension": ".py",
   "mimetype": "text/x-python",
   "name": "python",
   "nbconvert_exporter": "python",
   "pygments_lexer": "ipython3",
   "version": "3.8.2"
  }
 },
 "nbformat": 4,
 "nbformat_minor": 5
}
